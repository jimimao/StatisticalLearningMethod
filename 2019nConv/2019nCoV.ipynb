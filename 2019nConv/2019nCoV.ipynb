{
 "cells": [
  {
   "cell_type": "code",
   "execution_count": 1,
   "metadata": {},
   "outputs": [],
   "source": [
    "import matplotlib.pyplot as plt\n",
    "from scipy.optimize import curve_fit\n",
    "import pandas as pd\n",
    "import numpy as np"
   ]
  },
  {
   "cell_type": "code",
   "execution_count": 2,
   "metadata": {},
   "outputs": [],
   "source": [
    "def func(x,a,b,c):\n",
    "    return a*np.exp(-b*x) +c"
   ]
  },
  {
   "cell_type": "code",
   "execution_count": 3,
   "metadata": {},
   "outputs": [
    {
     "data": {
      "text/html": [
       "<div>\n",
       "<style scoped>\n",
       "    .dataframe tbody tr th:only-of-type {\n",
       "        vertical-align: middle;\n",
       "    }\n",
       "\n",
       "    .dataframe tbody tr th {\n",
       "        vertical-align: top;\n",
       "    }\n",
       "\n",
       "    .dataframe thead th {\n",
       "        text-align: right;\n",
       "    }\n",
       "</style>\n",
       "<table border=\"1\" class=\"dataframe\">\n",
       "  <thead>\n",
       "    <tr style=\"text-align: right;\">\n",
       "      <th></th>\n",
       "      <th>Date</th>\n",
       "      <th>Infection</th>\n",
       "      <th>Severe</th>\n",
       "      <th>Death</th>\n",
       "      <th>Recovery</th>\n",
       "      <th>suspected</th>\n",
       "      <th>Observation</th>\n",
       "    </tr>\n",
       "  </thead>\n",
       "  <tbody>\n",
       "    <tr>\n",
       "      <th>0</th>\n",
       "      <td>2020.01.20</td>\n",
       "      <td>291</td>\n",
       "      <td>NaN</td>\n",
       "      <td>6</td>\n",
       "      <td>NaN</td>\n",
       "      <td>54.0</td>\n",
       "      <td>922</td>\n",
       "    </tr>\n",
       "    <tr>\n",
       "      <th>1</th>\n",
       "      <td>2020.01.21</td>\n",
       "      <td>440</td>\n",
       "      <td>102.0</td>\n",
       "      <td>9</td>\n",
       "      <td>28.0</td>\n",
       "      <td>NaN</td>\n",
       "      <td>1394</td>\n",
       "    </tr>\n",
       "    <tr>\n",
       "      <th>2</th>\n",
       "      <td>2020.01.22</td>\n",
       "      <td>571</td>\n",
       "      <td>95.0</td>\n",
       "      <td>17</td>\n",
       "      <td>28.0</td>\n",
       "      <td>393.0</td>\n",
       "      <td>4928</td>\n",
       "    </tr>\n",
       "    <tr>\n",
       "      <th>3</th>\n",
       "      <td>2020.01.23</td>\n",
       "      <td>830</td>\n",
       "      <td>177.0</td>\n",
       "      <td>25</td>\n",
       "      <td>34.0</td>\n",
       "      <td>1072.0</td>\n",
       "      <td>8420</td>\n",
       "    </tr>\n",
       "    <tr>\n",
       "      <th>4</th>\n",
       "      <td>2020.01.24</td>\n",
       "      <td>1287</td>\n",
       "      <td>237.0</td>\n",
       "      <td>41</td>\n",
       "      <td>38.0</td>\n",
       "      <td>1965.0</td>\n",
       "      <td>13967</td>\n",
       "    </tr>\n",
       "    <tr>\n",
       "      <th>5</th>\n",
       "      <td>2020.01.25</td>\n",
       "      <td>1975</td>\n",
       "      <td>324.0</td>\n",
       "      <td>56</td>\n",
       "      <td>49.0</td>\n",
       "      <td>2684.0</td>\n",
       "      <td>21556</td>\n",
       "    </tr>\n",
       "    <tr>\n",
       "      <th>6</th>\n",
       "      <td>2020.01.26</td>\n",
       "      <td>2744</td>\n",
       "      <td>461.0</td>\n",
       "      <td>80</td>\n",
       "      <td>51.0</td>\n",
       "      <td>5794.0</td>\n",
       "      <td>30453</td>\n",
       "    </tr>\n",
       "    <tr>\n",
       "      <th>7</th>\n",
       "      <td>2020.01.27</td>\n",
       "      <td>4515</td>\n",
       "      <td>976.0</td>\n",
       "      <td>106</td>\n",
       "      <td>60.0</td>\n",
       "      <td>6973.0</td>\n",
       "      <td>44132</td>\n",
       "    </tr>\n",
       "    <tr>\n",
       "      <th>8</th>\n",
       "      <td>2020.01.28</td>\n",
       "      <td>5974</td>\n",
       "      <td>1239.0</td>\n",
       "      <td>132</td>\n",
       "      <td>103.0</td>\n",
       "      <td>9239.0</td>\n",
       "      <td>59990</td>\n",
       "    </tr>\n",
       "    <tr>\n",
       "      <th>9</th>\n",
       "      <td>2020.01.29</td>\n",
       "      <td>7711</td>\n",
       "      <td>1370.0</td>\n",
       "      <td>170</td>\n",
       "      <td>124.0</td>\n",
       "      <td>12167.0</td>\n",
       "      <td>81947</td>\n",
       "    </tr>\n",
       "    <tr>\n",
       "      <th>10</th>\n",
       "      <td>2020.01.30</td>\n",
       "      <td>9692</td>\n",
       "      <td>1527.0</td>\n",
       "      <td>213</td>\n",
       "      <td>171.0</td>\n",
       "      <td>15238.0</td>\n",
       "      <td>102427</td>\n",
       "    </tr>\n",
       "    <tr>\n",
       "      <th>11</th>\n",
       "      <td>2020.01.31</td>\n",
       "      <td>11791</td>\n",
       "      <td>1795.0</td>\n",
       "      <td>259</td>\n",
       "      <td>243.0</td>\n",
       "      <td>17988.0</td>\n",
       "      <td>136987</td>\n",
       "    </tr>\n",
       "    <tr>\n",
       "      <th>12</th>\n",
       "      <td>2020.02.01</td>\n",
       "      <td>14380</td>\n",
       "      <td>2110.0</td>\n",
       "      <td>304</td>\n",
       "      <td>328.0</td>\n",
       "      <td>19544.0</td>\n",
       "      <td>137594</td>\n",
       "    </tr>\n",
       "    <tr>\n",
       "      <th>13</th>\n",
       "      <td>2020.02.02</td>\n",
       "      <td>17205</td>\n",
       "      <td>2296.0</td>\n",
       "      <td>361</td>\n",
       "      <td>475.0</td>\n",
       "      <td>21558.0</td>\n",
       "      <td>189583</td>\n",
       "    </tr>\n",
       "    <tr>\n",
       "      <th>14</th>\n",
       "      <td>2020.02.03</td>\n",
       "      <td>20438</td>\n",
       "      <td>2788.0</td>\n",
       "      <td>425</td>\n",
       "      <td>632.0</td>\n",
       "      <td>23214.0</td>\n",
       "      <td>171329</td>\n",
       "    </tr>\n",
       "    <tr>\n",
       "      <th>15</th>\n",
       "      <td>2020.02.04</td>\n",
       "      <td>24324</td>\n",
       "      <td>3219.0</td>\n",
       "      <td>490</td>\n",
       "      <td>892.0</td>\n",
       "      <td>23260.0</td>\n",
       "      <td>185555</td>\n",
       "    </tr>\n",
       "  </tbody>\n",
       "</table>\n",
       "</div>"
      ],
      "text/plain": [
       "          Date  Infection  Severe  Death  Recovery  suspected  Observation\n",
       "0   2020.01.20        291     NaN      6       NaN       54.0          922\n",
       "1   2020.01.21        440   102.0      9      28.0        NaN         1394\n",
       "2   2020.01.22        571    95.0     17      28.0      393.0         4928\n",
       "3   2020.01.23        830   177.0     25      34.0     1072.0         8420\n",
       "4   2020.01.24       1287   237.0     41      38.0     1965.0        13967\n",
       "5   2020.01.25       1975   324.0     56      49.0     2684.0        21556\n",
       "6   2020.01.26       2744   461.0     80      51.0     5794.0        30453\n",
       "7   2020.01.27       4515   976.0    106      60.0     6973.0        44132\n",
       "8   2020.01.28       5974  1239.0    132     103.0     9239.0        59990\n",
       "9   2020.01.29       7711  1370.0    170     124.0    12167.0        81947\n",
       "10  2020.01.30       9692  1527.0    213     171.0    15238.0       102427\n",
       "11  2020.01.31      11791  1795.0    259     243.0    17988.0       136987\n",
       "12  2020.02.01      14380  2110.0    304     328.0    19544.0       137594\n",
       "13  2020.02.02      17205  2296.0    361     475.0    21558.0       189583\n",
       "14  2020.02.03      20438  2788.0    425     632.0    23214.0       171329\n",
       "15  2020.02.04      24324  3219.0    490     892.0    23260.0       185555"
      ]
     },
     "execution_count": 3,
     "metadata": {},
     "output_type": "execute_result"
    }
   ],
   "source": [
    "df = pd.read_csv(\"2019nCoV_national.csv\")\n",
    "a = df.shape[0]\n",
    "df"
   ]
  },
  {
   "cell_type": "code",
   "execution_count": 4,
   "metadata": {},
   "outputs": [
    {
     "data": {
      "text/plain": [
       "(array([ 1,  2,  3,  4,  5,  6,  7,  8,  9, 10, 11, 12, 13, 14, 15, 16]),\n",
       " array([  291,   440,   571,   830,  1287,  1975,  2744,  4515,  5974,\n",
       "         7711,  9692, 11791, 14380, 17205, 20438, 24324]))"
      ]
     },
     "execution_count": 4,
     "metadata": {},
     "output_type": "execute_result"
    }
   ],
   "source": [
    "x = np.arange(1,a+1,1)\n",
    "y = np.array(df['Infection'])\n",
    "x,y"
   ]
  },
  {
   "cell_type": "code",
   "execution_count": 5,
   "metadata": {},
   "outputs": [
    {
     "data": {
      "text/plain": [
       "[2041.1558738448389, -0.16250988910723121, -2842.0351343318926]"
      ]
     },
     "execution_count": 5,
     "metadata": {},
     "output_type": "execute_result"
    }
   ],
   "source": [
    "popt,pcov = curve_fit(func,x,y)\n",
    "popt,pcov\n",
    "popt.tolist()"
   ]
  },
  {
   "cell_type": "code",
   "execution_count": 26,
   "metadata": {},
   "outputs": [
    {
     "data": {
      "text/plain": [
       "0     01/20\n",
       "1     01/21\n",
       "2     01/22\n",
       "3     01/23\n",
       "4     01/24\n",
       "5     01/25\n",
       "6     01/26\n",
       "7     01/27\n",
       "8     01/28\n",
       "9     01/29\n",
       "10    01/30\n",
       "11    01/31\n",
       "12    02/01\n",
       "13    02/02\n",
       "14    02/03\n",
       "15    02/04\n",
       "dtype: object"
      ]
     },
     "execution_count": 26,
     "metadata": {},
     "output_type": "execute_result"
    }
   ],
   "source": [
    "d = df['Date'].str.split('.',expand = True)\n",
    "xticklabel=d[1]+'/'+d[2]\n",
    "xticklabel"
   ]
  },
  {
   "cell_type": "code",
   "execution_count": 57,
   "metadata": {},
   "outputs": [
    {
     "data": {
      "image/png": "[encoded data removed]",
      "text/plain": [
       "<Figure size 1440x720 with 1 Axes>"
      ]
     },
     "metadata": {
      "needs_background": "light"
     },
     "output_type": "display_data"
    }
   ],
   "source": [
    "# x.append(16)\n",
    "fig = plt.figure(figsize=(20,10))\n",
    "ax = fig.add_subplot(1,1,1)\n",
    "# 拟合的确诊人数曲线\n",
    "ax.plot(x,func(x,*popt),'r-',label = 'Infection,fit:a={0[0]:.3f},b={0[1]:.3f},c={0[2]:.3f}'.format(popt.tolist()))\n",
    "for a,b in zip(x,y):\n",
    "    ax.text(a, b+1000, '%.0f' % b, ha='center', va= 'bottom',fontsize=9)\n",
    "ax.scatter(x,y,c='b',alpha=0.4)\n",
    "# # 死亡曲线\n",
    "# ax.plot(x,df['Death'],'g-',label = \"Death\")\n",
    "# for a,b in zip(x,df['Death']):\n",
    "#     ax.text(a, b-1000, '%.0f' % b, ha='center', va= 'bottom',fontsize=9)\n",
    "# ax.scatter(x,df['Death'],c='r',alpha=0.4)\n",
    "\n",
    "# 康复曲线\n",
    "df['Recovery'].fillna(0,inplace = False)\n",
    "ax.plot(x,df['Recovery'],'b-',label = \"Recovery\")\n",
    "for a,b in zip(x,df['Recovery']):\n",
    "    ax.text(a, b-1000, '%.0f' % b, ha='center', va= 'bottom',fontsize=9)\n",
    "ax.scatter(x,df['Recovery'],c='r',alpha=0.4)\n",
    "\n",
    "ax.set_xticks(x)\n",
    "ax.set_xticklabels(xticklabel)\n",
    "ax.legend(loc = 'upper left')\n",
    "plt.savefig('2019nCoV.jpg')\n",
    "# plt.show()"
   ]
  },
  {
   "cell_type": "code",
   "execution_count": 55,
   "metadata": {},
   "outputs": [
    {
     "data": {
      "text/plain": [
       "29494.068547460447"
      ]
     },
     "execution_count": 55,
     "metadata": {},
     "output_type": "execute_result"
    }
   ],
   "source": [
    "func(17,*popt)"
   ]
  },
  {
   "cell_type": "code",
   "execution_count": 25,
   "metadata": {},
   "outputs": [
    {
     "data": {
      "text/plain": [
       "pandas.core.series.Series"
      ]
     },
     "execution_count": 25,
     "metadata": {},
     "output_type": "execute_result"
    }
   ],
   "source": [
    "d = df['Date'].str.split('.',expand = True)\n",
    "s=d[1]+'/'+d[2]"
   ]
  },
  {
   "cell_type": "code",
   "execution_count": null,
   "metadata": {},
   "outputs": [],
   "source": []
  }
 ],
 "metadata": {
  "kernelspec": {
   "display_name": "Python 3",
   "language": "python",
   "name": "python3"
  },
  "language_info": {
   "codemirror_mode": {
    "name": "ipython",
    "version": 3
   },
   "file_extension": ".py",
   "mimetype": "text/x-python",
   "name": "python",
   "nbconvert_exporter": "python",
   "pygments_lexer": "ipython3",
   "version": "3.7.3"
  }
 },
 "nbformat": 4,
 "nbformat_minor": 4
}
